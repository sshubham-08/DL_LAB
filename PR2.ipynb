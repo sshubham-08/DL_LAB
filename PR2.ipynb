{
 "cells": [
  {
   "cell_type": "code",
   "execution_count": null,
   "id": "44de1228",
   "metadata": {},
   "outputs": [],
   "source": [
    "# Name- Pranav Shelke(BE-IT)\n",
    "# Roll.no- 69\n",
    "# Assignment No- 02\n",
    "# Problem Statement-Implementing Feedforward neural networks with Keras and TensorFlow\n",
    "# a. Import the necessary packages\n",
    "# b. Load the training and testing data (MNIST/CIFAR10)\n",
    "# c. Define the network architecture using Keras\n",
    "# d. Train the model using SGD\n",
    "# e. Evaluate the network\n",
    "# f. Plot the training loss and accuracy"
   ]
  },
  {
   "cell_type": "code",
   "execution_count": 8,
   "id": "4c650b55",
   "metadata": {},
   "outputs": [],
   "source": [
    "from sklearn.preprocessing import LabelBinarizer\n",
    "from sklearn.metrics import classification_report\n",
    "from tensorflow.keras.models import Sequential\n",
    "from tensorflow.keras.layers import Dense\n",
    "from tensorflow.keras.optimizers import SGD\n",
    "from tensorflow.keras.datasets import mnist\n",
    "from tensorflow.keras import backend as K\n",
    "import matplotlib.pyplot as plt\n",
    "import numpy as np"
   ]
  },
  {
   "cell_type": "code",
   "execution_count": 10,
   "id": "9d92ed75",
   "metadata": {},
   "outputs": [
    {
     "name": "stdout",
     "output_type": "stream",
     "text": [
      "Downloading data from https://storage.googleapis.com/tensorflow/tf-keras-datasets/mnist.npz\n",
      "11490434/11490434 [==============================] - 57s 5us/step\n"
     ]
    }
   ],
   "source": [
    "((trainX, trainY), (testX, testY)) = mnist.load_data()"
   ]
  },
  {
   "cell_type": "code",
   "execution_count": 11,
   "id": "2876046a",
   "metadata": {},
   "outputs": [],
   "source": [
    "trainX = trainX.reshape((trainX.shape[0], 28 * 28 * 1))\n",
    "testX = testX.reshape((testX.shape[0], 28 * 28 * 1))"
   ]
  },
  {
   "cell_type": "code",
   "execution_count": 12,
   "id": "33f12e87",
   "metadata": {},
   "outputs": [],
   "source": [
    "trainX = trainX.astype(\"float32\") / 255.0\n",
    "testX = testX.astype(\"float32\") / 255.0"
   ]
  },
  {
   "cell_type": "code",
   "execution_count": 16,
   "id": "86899f8b",
   "metadata": {},
   "outputs": [],
   "source": [
    "lb = LabelBinarizer()\n",
    "trainY = lb.fit_transform(trainY)\n",
    "testY = lb.transform(testY)"
   ]
  },
  {
   "cell_type": "code",
   "execution_count": 17,
   "id": "e3975dd0",
   "metadata": {},
   "outputs": [],
   "source": [
    "model = Sequential()\n",
    "model.add(Dense(256, input_shape=(784,), activation=\"sigmoid\"))\n",
    "model.add(Dense(128, activation=\"sigmoid\"))\n",
    "model.add(Dense(10, activation=\"softmax\"))"
   ]
  },
  {
   "cell_type": "code",
   "execution_count": 28,
   "id": "d0cfde19",
   "metadata": {
    "scrolled": false
   },
   "outputs": [
    {
     "name": "stdout",
     "output_type": "stream",
     "text": [
      "[INFO] training network...\n",
      "Epoch 1/10\n",
      "6000/6000 [==============================] - 16s 3ms/step - loss: 0.3248 - accuracy: 0.9066 - val_loss: 0.3018 - val_accuracy: 0.9140\n",
      "Epoch 2/10\n",
      "6000/6000 [==============================] - 28s 5ms/step - loss: 0.3052 - accuracy: 0.9114 - val_loss: 0.2874 - val_accuracy: 0.9173\n",
      "Epoch 3/10\n",
      "6000/6000 [==============================] - 29s 5ms/step - loss: 0.2903 - accuracy: 0.9159 - val_loss: 0.2752 - val_accuracy: 0.9220\n",
      "Epoch 4/10\n",
      "6000/6000 [==============================] - 22s 4ms/step - loss: 0.2779 - accuracy: 0.9189 - val_loss: 0.2643 - val_accuracy: 0.9231\n",
      "Epoch 5/10\n",
      "6000/6000 [==============================] - 19s 3ms/step - loss: 0.2665 - accuracy: 0.9225 - val_loss: 0.2558 - val_accuracy: 0.9259\n",
      "Epoch 6/10\n",
      "6000/6000 [==============================] - 16s 3ms/step - loss: 0.2565 - accuracy: 0.9252 - val_loss: 0.2481 - val_accuracy: 0.9281\n",
      "Epoch 7/10\n",
      "6000/6000 [==============================] - 14s 2ms/step - loss: 0.2467 - accuracy: 0.9277 - val_loss: 0.2384 - val_accuracy: 0.9312\n",
      "Epoch 8/10\n",
      "6000/6000 [==============================] - 16s 3ms/step - loss: 0.2377 - accuracy: 0.9305 - val_loss: 0.2291 - val_accuracy: 0.9343\n",
      "Epoch 9/10\n",
      "6000/6000 [==============================] - 25s 4ms/step - loss: 0.2289 - accuracy: 0.9335 - val_loss: 0.2220 - val_accuracy: 0.9367\n",
      "Epoch 10/10\n",
      "6000/6000 [==============================] - 17s 3ms/step - loss: 0.2202 - accuracy: 0.9359 - val_loss: 0.2132 - val_accuracy: 0.9389\n"
     ]
    }
   ],
   "source": [
    "print(\"[INFO] training network...\")\n",
    "sgd = SGD(0.01)\n",
    "model.compile(loss=\"categorical_crossentropy\", optimizer=sgd,\n",
    "\tmetrics=[\"accuracy\"])\n",
    "H = model.fit(trainX, trainY, validation_data=(testX, testY),\n",
    "\tepochs=10, batch_size=10)"
   ]
  },
  {
   "cell_type": "code",
   "execution_count": 29,
   "id": "4f4d1e64",
   "metadata": {},
   "outputs": [
    {
     "name": "stdout",
     "output_type": "stream",
     "text": [
      "[INFO] evaluating network...\n",
      "79/79 [==============================] - 0s 2ms/step\n",
      "              precision    recall  f1-score   support\n",
      "\n",
      "           0       0.96      0.98      0.97       980\n",
      "           1       0.97      0.98      0.98      1135\n",
      "           2       0.94      0.94      0.94      1032\n",
      "           3       0.92      0.93      0.93      1010\n",
      "           4       0.94      0.94      0.94       982\n",
      "           5       0.94      0.88      0.91       892\n",
      "           6       0.94      0.95      0.95       958\n",
      "           7       0.94      0.93      0.94      1028\n",
      "           8       0.91      0.92      0.92       974\n",
      "           9       0.92      0.93      0.92      1009\n",
      "\n",
      "    accuracy                           0.94     10000\n",
      "   macro avg       0.94      0.94      0.94     10000\n",
      "weighted avg       0.94      0.94      0.94     10000\n",
      "\n"
     ]
    }
   ],
   "source": [
    "print(\"[INFO] evaluating network...\")\n",
    "predictions = model.predict(testX, batch_size=128)\n",
    "print(classification_report(testY.argmax(axis=1),\n",
    "\tpredictions.argmax(axis=1),\n",
    "\ttarget_names=[str(x) for x in lb.classes_]))"
   ]
  },
  {
   "cell_type": "code",
   "execution_count": 30,
   "id": "1ec67728",
   "metadata": {},
   "outputs": [
    {
     "data": {
      "text/plain": [
       "Text(0, 0.5, 'Loss/Accuracy')"
      ]
     },
     "execution_count": 30,
     "metadata": {},
     "output_type": "execute_result"
    },
    {
     "data": {
      "image/png": "[encoded data removed]",
      "text/plain": [
       "<Figure size 432x288 with 1 Axes>"
      ]
     },
     "metadata": {},
     "output_type": "display_data"
    }
   ],
   "source": [
    "plt.style.use(\"ggplot\")\n",
    "plt.figure()\n",
    "plt.plot(np.arange(0, 10), H.history[\"loss\"], label=\"train_loss\")\n",
    "plt.plot(np.arange(0, 10), H.history[\"accuracy\"], label=\"train_acc\")\n",
    "plt.title(\"Training Loss and Accuracy\")\n",
    "plt.xlabel(\"Epoch #\")\n",
    "plt.ylabel(\"Loss/Accuracy\")"
   ]
  },
  {
   "cell_type": "code",
   "execution_count": null,
   "id": "c926ed31",
   "metadata": {},
   "outputs": [],
   "source": []
  }
 ],
 "metadata": {
  "kernelspec": {
   "display_name": "Python 3 (ipykernel)",
   "language": "python",
   "name": "python3"
  },
  "language_info": {
   "codemirror_mode": {
    "name": "ipython",
    "version": 3
   },
   "file_extension": ".py",
   "mimetype": "text/x-python",
   "name": "python",
   "nbconvert_exporter": "python",
   "pygments_lexer": "ipython3",
   "version": "3.9.6"
  }
 },
 "nbformat": 4,
 "nbformat_minor": 5
}
