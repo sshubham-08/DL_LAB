{
 "cells": [
  {
   "cell_type": "code",
   "execution_count": null,
   "metadata": {},
   "outputs": [],
   "source": [
    "# Name- Pranav Shelke(BE-IT)\n",
    "# Roll.no- 69\n",
    "# Assignment No- 04\n",
    "# Problem Statement- Use Autoencoder to implement anomaly detection. Build the model by using:\n",
    "# a. Import required libraries\n",
    "# b. Upload / access the dataset\n",
    "# c. Encoder converts it into latent representation\n",
    "# d. Decoder networks convert it back to the original input\n",
    "# e. Compile the models with Optimizer, Loss, and Evaluation Metrics"
   ]
  },
  {
   "cell_type": "code",
   "execution_count": null,
   "metadata": {
    "id": "vFBZeTE7uFgV"
   },
   "outputs": [],
   "source": [
    "# https://towardsdatascience.com/anomaly-detection-using-autoencoders-5b032178a1ea "
   ]
  },
  {
   "cell_type": "code",
   "execution_count": null,
   "metadata": {
    "id": "-pv7RBvRljnn"
   },
   "outputs": [],
   "source": [
    "import pandas as pd\n",
    "import numpy as np\n",
    "import tensorflow as tf\n",
    "import matplotlib.pyplot as plt\n",
    "import seaborn as sns\n",
    "from sklearn.model_selection import train_test_split\n",
    "from sklearn.preprocessing import StandardScaler\n",
    "from sklearn.metrics import confusion_matrix, recall_score, accuracy_score, precision_score\n",
    "RANDOM_SEED = 2021 \n",
    "TEST_PCT = 0.3\n",
    "LABELS = [\"Normal\",\"Fraud\"]"
   ]
  },
  {
   "cell_type": "code",
   "execution_count": null,
   "metadata": {
    "colab": {
     "base_uri": "https://localhost:8080/"
    },
    "id": "Z_i4A99YrGIt",
    "outputId": "fcd252bc-7593-4ae4-db11-6e47ba1879e6"
   },
   "outputs": [
    {
     "name": "stdout",
     "output_type": "stream",
     "text": [
      "Drive already mounted at /content/drive; to attempt to forcibly remount, call drive.mount(\"/content/drive\", force_remount=True).\n"
     ]
    }
   ],
   "source": [
    "from google.colab import drive\n",
    "drive.mount('/content/drive')"
   ]
  },
  {
   "cell_type": "code",
   "execution_count": null,
   "metadata": {
    "id": "wiYbDVDDl2M6"
   },
   "outputs": [],
   "source": [
    "dataset = pd.read_csv(\"/content/drive/MyDrive/anomaly_data_set/creditcard.csv\")  \n"
   ]
  },
  {
   "cell_type": "code",
   "execution_count": null,
   "metadata": {
    "colab": {
     "base_uri": "https://localhost:8080/"
    },
    "id": "CntCPbi1CViD",
    "outputId": "abb73cae-9b2f-43d0-d931-1264c81229d0"
   },
   "outputs": [
    {
     "name": "stdout",
     "output_type": "stream",
     "text": [
      "Any nulls in the dataset  False\n",
      "-------\n",
      "No. of unique labels  2\n",
      "Label values  [0 1]\n",
      "-------\n",
      "Break down of the Normal and Fraud Transactions\n",
      "0    284315\n",
      "1       492\n",
      "Name: Class, dtype: int64\n"
     ]
    }
   ],
   "source": [
    "#check for any  nullvalues \n",
    "print(\"Any nulls in the dataset \",dataset.isnull().values.any() )\n",
    "print('-------')\n",
    "print(\"No. of unique labels \", len(dataset['Class'].unique()))\n",
    "print(\"Label values \",dataset.Class.unique())\n",
    "#0 is for normal credit card transaction\n",
    "#1 is for fraudulent credit card transaction\n",
    "print('-------')\n",
    "print(\"Break down of the Normal and Fraud Transactions\")\n",
    "print(pd.value_counts(dataset['Class'], sort = True) )\n"
   ]
  },
  {
   "cell_type": "code",
   "execution_count": null,
   "metadata": {
    "colab": {
     "base_uri": "https://localhost:8080/",
     "height": 295
    },
    "id": "UWLiZeaT9qZ1",
    "outputId": "819adf19-b54f-4cf0-e861-3c2982809fae"
   },
   "outputs": [
    {
     "data": {
      "image/png": "[encoded data removed]",
      "text/plain": [
       "<Figure size 432x288 with 1 Axes>"
      ]
     },
     "metadata": {
      "needs_background": "light"
     },
     "output_type": "display_data"
    }
   ],
   "source": [
    "#Visualizing the imbalanced dataset\n",
    "#plotting the number of normal and fraud transactions in the dataset.\n",
    "count_classes = pd.value_counts(dataset['Class'], sort = True)\n",
    "count_classes.plot(kind = 'bar', rot=0)\n",
    "plt.xticks(range(len(dataset['Class'].unique())), dataset.Class.unique())\n",
    "plt.title(\"Frequency by observation number\")\n",
    "plt.xlabel(\"Class\")\n",
    "plt.ylabel(\"Number of Observations\");"
   ]
  },
  {
   "cell_type": "code",
   "execution_count": null,
   "metadata": {
    "id": "EVvmxGwwAYlm"
   },
   "outputs": [],
   "source": [
    "#The last column in the dataset is our target variable.\n",
    "raw_data = dataset.values\n",
    "# The last element contains if the transaction is normal which is represented by a 0 and if fraud then 1\n",
    "labels = raw_data[:, -1]\n",
    "# The other data points are the electrocadriogram data\n",
    "data = raw_data[:, 0:-1]\n",
    "train_data, test_data, train_labels, test_labels = train_test_split(\n",
    "    data, labels, test_size=0.2, random_state=2021\n",
    ")"
   ]
  },
  {
   "cell_type": "code",
   "execution_count": null,
   "metadata": {
    "id": "3ticUH7IAgb8"
   },
   "outputs": [],
   "source": [
    "#Normalize the data to have a value between 0 and 1\n",
    "min_val = tf.reduce_min(train_data)\n",
    "max_val = tf.reduce_max(train_data)\n",
    "train_data = (train_data - min_val) / (max_val - min_val)\n",
    "test_data = (test_data - min_val) / (max_val - min_val)\n",
    "train_data = tf.cast(train_data, tf.float32)\n",
    "test_data = tf.cast(test_data, tf.float32)"
   ]
  },
  {
   "cell_type": "code",
   "execution_count": null,
   "metadata": {
    "colab": {
     "base_uri": "https://localhost:8080/"
    },
    "id": "WjlQEkpRAxQN",
    "outputId": "5fd95220-0961-4bba-b9a3-b64c985f5283"
   },
   "outputs": [
    {
     "name": "stdout",
     "output_type": "stream",
     "text": [
      " No. of records in Fraud Train Data= 389\n",
      " No. of records in Normal Train data= 227456\n",
      " No. of records in Fraud Test Data= 103\n",
      " No. of records in Normal Test data= 56859\n"
     ]
    }
   ],
   "source": [
    "# Use only normal transactions to train the Autoencoder.\n",
    "train_labels = train_labels.astype(bool)\n",
    "test_labels = test_labels.astype(bool)\n",
    "#creating normal and fraud datasets\n",
    "normal_train_data = train_data[~train_labels]\n",
    "normal_test_data = test_data[~test_labels]\n",
    "fraud_train_data = train_data[train_labels]\n",
    "fraud_test_data = test_data[test_labels]\n",
    "print(\" No. of records in Fraud Train Data=\",len(fraud_train_data))\n",
    "print(\" No. of records in Normal Train data=\",len(normal_train_data))\n",
    "print(\" No. of records in Fraud Test Data=\",len(fraud_test_data))\n",
    "print(\" No. of records in Normal Test data=\",len(normal_test_data))"
   ]
  },
  {
   "cell_type": "code",
   "execution_count": null,
   "metadata": {
    "id": "aPQBOh7gBEuE"
   },
   "outputs": [],
   "source": [
    "#Set the training parameter values\n",
    "nb_epoch = 50\n",
    "batch_size = 64\n",
    "input_dim = normal_train_data.shape[1] #num of columns, 30\n",
    "encoding_dim = 14\n",
    "hidden_dim_1 = int(encoding_dim / 2) #\n",
    "hidden_dim_2=4  \n",
    "learning_rate = 1e-7\n",
    "\n"
   ]
  },
  {
   "cell_type": "code",
   "execution_count": null,
   "metadata": {
    "colab": {
     "base_uri": "https://localhost:8080/"
    },
    "id": "p9THtOkfBPmM",
    "outputId": "c64298a6-1d98-4bf9-8b73-8fac78625196"
   },
   "outputs": [
    {
     "name": "stdout",
     "output_type": "stream",
     "text": [
      "Model: \"model\"\n",
      "_________________________________________________________________\n",
      " Layer (type)                Output Shape              Param #   \n",
      "=================================================================\n",
      " input_1 (InputLayer)        [(None, 30)]              0         \n",
      "                                                                 \n",
      " dense (Dense)               (None, 14)                434       \n",
      "                                                                 \n",
      " dropout (Dropout)           (None, 14)                0         \n",
      "                                                                 \n",
      " dense_1 (Dense)             (None, 7)                 105       \n",
      "                                                                 \n",
      " dense_2 (Dense)             (None, 4)                 32        \n",
      "                                                                 \n",
      " dense_3 (Dense)             (None, 7)                 35        \n",
      "                                                                 \n",
      " dropout_1 (Dropout)         (None, 7)                 0         \n",
      "                                                                 \n",
      " dense_4 (Dense)             (None, 14)                112       \n",
      "                                                                 \n",
      " dense_5 (Dense)             (None, 30)                450       \n",
      "                                                                 \n",
      "=================================================================\n",
      "Total params: 1,168\n",
      "Trainable params: 1,168\n",
      "Non-trainable params: 0\n",
      "_________________________________________________________________\n"
     ]
    }
   ],
   "source": [
    "#Create the Autoencoder\n",
    "\n",
    "#input Layer\n",
    "input_layer = tf.keras.layers.Input(shape=(input_dim, ))\n",
    "#Encoder\n",
    "encoder = tf.keras.layers.Dense(encoding_dim, activation=\"tanh\",activity_regularizer=tf.keras.regularizers.l2(learning_rate))(input_layer)\n",
    "encoder=tf.keras.layers.Dropout(0.2)(encoder)\n",
    "encoder = tf.keras.layers.Dense(hidden_dim_1, activation='relu')(encoder)\n",
    "encoder = tf.keras.layers.Dense(hidden_dim_2, activation=tf.nn.leaky_relu)(encoder)\n",
    "# Decoder\n",
    "decoder = tf.keras.layers.Dense(hidden_dim_1, activation='relu')(encoder)\n",
    "decoder=tf.keras.layers.Dropout(0.2)(decoder)\n",
    "decoder = tf.keras.layers.Dense(encoding_dim, activation='relu')(decoder)\n",
    "decoder = tf.keras.layers.Dense(input_dim, activation='tanh')(decoder)\n",
    "#Autoencoder\n",
    "autoencoder = tf.keras.Model(inputs=input_layer, outputs=decoder)\n",
    "autoencoder.summary()"
   ]
  },
  {
   "cell_type": "code",
   "execution_count": null,
   "metadata": {
    "id": "rAcz2_opCMoi"
   },
   "outputs": [],
   "source": [
    "# Define the callbacks for checkpoints and early stopping\n",
    "\n",
    "cp = tf.keras.callbacks.ModelCheckpoint(filepath=\"autoencoder_fraud.h5\",\n",
    "                               mode='min', monitor='val_loss', verbose=2, save_best_only=True)\n",
    "\n",
    "# define our early stopping\n",
    "early_stop = tf.keras.callbacks.EarlyStopping(\n",
    "    monitor='val_loss',\n",
    "    min_delta=0.0001,\n",
    "    patience=10,\n",
    "    verbose=1, \n",
    "    mode='min',\n",
    "    restore_best_weights=True)\n"
   ]
  },
  {
   "cell_type": "code",
   "execution_count": null,
   "metadata": {
    "id": "u5m-jKYmBv5C"
   },
   "outputs": [],
   "source": [
    "autoencoder.compile(metrics=['accuracy'],\n",
    "                    loss='mean_squared_error',\n",
    "                    optimizer='adam')"
   ]
  },
  {
   "cell_type": "code",
   "execution_count": null,
   "metadata": {
    "colab": {
     "base_uri": "https://localhost:8080/"
    },
    "id": "kveEzKXAB3ca",
    "outputId": "97943afc-8ffd-4511-fdf7-759262164439"
   },
   "outputs": [
    {
     "name": "stdout",
     "output_type": "stream",
     "text": [
      "Epoch 1/50\n",
      "3552/3554 [============================>.] - ETA: 0s - loss: 7.9851e-04 - accuracy: 0.9981\n",
      "Epoch 1: val_loss improved from inf to 0.00027, saving model to autoencoder_fraud.h5\n",
      "3554/3554 [==============================] - 18s 4ms/step - loss: 7.9830e-04 - accuracy: 0.9981 - val_loss: 2.6627e-04 - val_accuracy: 0.9996\n",
      "Epoch 2/50\n",
      "3553/3554 [============================>.] - ETA: 0s - loss: 5.1787e-04 - accuracy: 0.9997\n",
      "Epoch 2: val_loss did not improve from 0.00027\n",
      "3554/3554 [==============================] - 11s 3ms/step - loss: 5.1784e-04 - accuracy: 0.9997 - val_loss: 2.8031e-04 - val_accuracy: 0.9996\n",
      "Epoch 3/50\n",
      "3553/3554 [============================>.] - ETA: 0s - loss: 4.2138e-04 - accuracy: 0.9996\n",
      "Epoch 3: val_loss did not improve from 0.00027\n",
      "3554/3554 [==============================] - 10s 3ms/step - loss: 4.2136e-04 - accuracy: 0.9996 - val_loss: 3.2999e-04 - val_accuracy: 0.9804\n",
      "Epoch 4/50\n",
      "3554/3554 [==============================] - ETA: 0s - loss: 1.9861e-04 - accuracy: 0.9994\n",
      "Epoch 4: val_loss did not improve from 0.00027\n",
      "3554/3554 [==============================] - 11s 3ms/step - loss: 1.9861e-04 - accuracy: 0.9994 - val_loss: 3.5204e-04 - val_accuracy: 0.9800\n",
      "Epoch 5/50\n",
      "3554/3554 [==============================] - ETA: 0s - loss: 1.9459e-04 - accuracy: 0.9988\n",
      "Epoch 5: val_loss did not improve from 0.00027\n",
      "3554/3554 [==============================] - 10s 3ms/step - loss: 1.9459e-04 - accuracy: 0.9988 - val_loss: 2.7281e-04 - val_accuracy: 0.9996\n",
      "Epoch 6/50\n",
      "3540/3554 [============================>.] - ETA: 0s - loss: 1.9470e-04 - accuracy: 0.9985\n",
      "Epoch 6: val_loss did not improve from 0.00027\n",
      "3554/3554 [==============================] - 10s 3ms/step - loss: 1.9479e-04 - accuracy: 0.9985 - val_loss: 2.7492e-04 - val_accuracy: 0.9996\n",
      "Epoch 7/50\n",
      "3535/3554 [============================>.] - ETA: 0s - loss: 1.8992e-04 - accuracy: 0.9987\n",
      "Epoch 7: val_loss improved from 0.00027 to 0.00026, saving model to autoencoder_fraud.h5\n",
      "3554/3554 [==============================] - 10s 3ms/step - loss: 1.8993e-04 - accuracy: 0.9987 - val_loss: 2.5500e-04 - val_accuracy: 0.9996\n",
      "Epoch 8/50\n",
      "3544/3554 [============================>.] - ETA: 0s - loss: 1.9171e-04 - accuracy: 0.9993\n",
      "Epoch 8: val_loss improved from 0.00026 to 0.00025, saving model to autoencoder_fraud.h5\n",
      "3554/3554 [==============================] - 10s 3ms/step - loss: 1.9166e-04 - accuracy: 0.9993 - val_loss: 2.5283e-04 - val_accuracy: 0.9996\n",
      "Epoch 9/50\n",
      "3550/3554 [============================>.] - ETA: 0s - loss: 1.9394e-04 - accuracy: 0.9995\n",
      "Epoch 9: val_loss improved from 0.00025 to 0.00022, saving model to autoencoder_fraud.h5\n",
      "3554/3554 [==============================] - 9s 2ms/step - loss: 1.9401e-04 - accuracy: 0.9995 - val_loss: 2.1594e-04 - val_accuracy: 0.9996\n",
      "Epoch 10/50\n",
      "3553/3554 [============================>.] - ETA: 0s - loss: 1.9237e-04 - accuracy: 0.9996\n",
      "Epoch 10: val_loss improved from 0.00022 to 0.00021, saving model to autoencoder_fraud.h5\n",
      "3554/3554 [==============================] - 9s 2ms/step - loss: 1.9237e-04 - accuracy: 0.9996 - val_loss: 2.1155e-04 - val_accuracy: 0.9996\n",
      "Epoch 11/50\n",
      "3546/3554 [============================>.] - ETA: 0s - loss: 1.9225e-04 - accuracy: 0.9996\n",
      "Epoch 11: val_loss improved from 0.00021 to 0.00020, saving model to autoencoder_fraud.h5\n",
      "Restoring model weights from the end of the best epoch: 1.\n",
      "3554/3554 [==============================] - 9s 3ms/step - loss: 1.9229e-04 - accuracy: 0.9996 - val_loss: 2.0003e-04 - val_accuracy: 0.9996\n",
      "Epoch 11: early stopping\n"
     ]
    }
   ],
   "source": [
    "history = autoencoder.fit(normal_train_data, normal_train_data,\n",
    "                    epochs=nb_epoch,\n",
    "                    batch_size=batch_size,\n",
    "                    shuffle=True,\n",
    "                    validation_data=(test_data, test_data),\n",
    "                    verbose=1,\n",
    "                    callbacks=[cp, early_stop]\n",
    "                    ).history"
   ]
  },
  {
   "cell_type": "code",
   "execution_count": null,
   "metadata": {
    "colab": {
     "base_uri": "https://localhost:8080/"
    },
    "id": "m3tTeLO1DfTv",
    "outputId": "365a3cdb-31b1-4eb8-f26b-f171cce89a45"
   },
   "outputs": [
    {
     "name": "stdout",
     "output_type": "stream",
     "text": [
      "1781/1781 [==============================] - 2s 1ms/step\n"
     ]
    }
   ],
   "source": [
    "# Detect Anomalies on test data\n",
    "test_x_predictions = autoencoder.predict(test_data)\n",
    "mse = np.mean(np.power(test_data - test_x_predictions, 2), axis=1)\n",
    "error_df = pd.DataFrame({'Reconstruction_error': mse,\n",
    "                        'True_class': test_labels})"
   ]
  },
  {
   "cell_type": "code",
   "execution_count": null,
   "metadata": {
    "colab": {
     "base_uri": "https://localhost:8080/",
     "height": 295
    },
    "id": "srKYZksiE0xG",
    "outputId": "437346c3-5002-4b1e-fa90-e92a123f7ac4"
   },
   "outputs": [
    {
     "data": {
      "image/png": "[encoded data removed]",
      "text/plain": [
       "<Figure size 288x288 with 2 Axes>"
      ]
     },
     "metadata": {
      "needs_background": "light"
     },
     "output_type": "display_data"
    }
   ],
   "source": [
    "threshold_fixed =52\n",
    "pred_y = [1 if e > threshold_fixed else 0 for e in error_df.Reconstruction_error.values]\n",
    "error_df['pred'] =pred_y\n",
    "conf_matrix = confusion_matrix(error_df.True_class, pred_y)\n",
    "plt.figure(figsize=(4, 4))\n",
    "sns.heatmap(conf_matrix, xticklabels=LABELS, yticklabels=LABELS, annot=True, fmt=\"d\");\n",
    "plt.title(\"Confusion matrix\")\n",
    "plt.ylabel('True class')\n",
    "plt.xlabel('Predicted class')\n",
    "plt.show()\n"
   ]
  }
 ],
 "metadata": {
  "colab": {
   "collapsed_sections": [],
   "provenance": []
  },
  "kernelspec": {
   "display_name": "Python 3 (ipykernel)",
   "language": "python",
   "name": "python3"
  },
  "language_info": {
   "codemirror_mode": {
    "name": "ipython",
    "version": 3
   },
   "file_extension": ".py",
   "mimetype": "text/x-python",
   "name": "python",
   "nbconvert_exporter": "python",
   "pygments_lexer": "ipython3",
   "version": "3.9.6"
  }
 },
 "nbformat": 4,
 "nbformat_minor": 1
}
