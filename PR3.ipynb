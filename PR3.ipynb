{
 "cells": [
  {
   "cell_type": "code",
   "execution_count": null,
   "metadata": {},
   "outputs": [],
   "source": [
    "# Name- Pranav Shelke(BE-IT)\n",
    "# Roll.no- 69\n",
    "# Assignment No- 03\n",
    "# Problem Statement- Build the Image classification model by dividing the model into following 4 stages:\n",
    "# a. Loading and preprocessing the image data\n",
    "# b. Defining the model’s architecture\n",
    "# c. Training the model\n",
    "# d. Estimating the model’s performance"
   ]
  },
  {
   "cell_type": "code",
   "execution_count": null,
   "metadata": {
    "id": "GhPaInsHblr_"
   },
   "outputs": [],
   "source": [
    "#Small Image Classification Using Convolutional Neural Network (CNN)\n",
    "#https://www.youtube.com/watch?v=7HPwo4wnJeA\n"
   ]
  },
  {
   "cell_type": "code",
   "execution_count": null,
   "metadata": {
    "id": "f1DIQPtvbpA_"
   },
   "outputs": [],
   "source": [
    "#In this notebook, we will classify small images cifar10 dataset from tensorflow keras datasets. \n",
    "#There are total 10 classes as shown below. We will use CNN for classification"
   ]
  },
  {
   "cell_type": "code",
   "execution_count": null,
   "metadata": {
    "id": "rli5e558cG6h"
   },
   "outputs": [],
   "source": [
    "import tensorflow as tf\n",
    "from tensorflow.keras import datasets, layers, models\n",
    "import matplotlib.pyplot as plt\n",
    "import numpy as np"
   ]
  },
  {
   "cell_type": "code",
   "execution_count": null,
   "metadata": {
    "colab": {
     "base_uri": "https://localhost:8080/"
    },
    "id": "YqJZ5dlfcdjf",
    "outputId": "25c353fc-c4cd-4243-b3e3-32f354cf11f9"
   },
   "outputs": [
    {
     "data": {
      "text/plain": [
       "(50000, 32, 32, 3)"
      ]
     },
     "execution_count": 23,
     "metadata": {},
     "output_type": "execute_result"
    }
   ],
   "source": [
    "\n",
    "(X_train, y_train), (X_test,y_test) = datasets.cifar10.load_data()\n",
    "\n",
    "X_train.shape  # to check the  shape of x train 50,000 sample with 32 by 32 image with RGB 3 \n",
    "\n",
    "\n"
   ]
  },
  {
   "cell_type": "code",
   "execution_count": null,
   "metadata": {
    "colab": {
     "base_uri": "https://localhost:8080/"
    },
    "id": "7epi2IfRcLmg",
    "outputId": "e4a95282-6ef2-4dd0-b54d-ef714781f322"
   },
   "outputs": [
    {
     "data": {
      "text/plain": [
       "(10000, 32, 32, 3)"
      ]
     },
     "execution_count": 24,
     "metadata": {},
     "output_type": "execute_result"
    }
   ],
   "source": [
    "X_test.shape"
   ]
  },
  {
   "cell_type": "code",
   "execution_count": null,
   "metadata": {
    "colab": {
     "base_uri": "https://localhost:8080/"
    },
    "id": "etXNMDqgxajJ",
    "outputId": "20438fce-7203-48e0-e0f6-62030f49df36"
   },
   "outputs": [
    {
     "data": {
      "text/plain": [
       "(50000, 1)"
      ]
     },
     "execution_count": 25,
     "metadata": {},
     "output_type": "execute_result"
    }
   ],
   "source": [
    "y_train.shape"
   ]
  },
  {
   "cell_type": "code",
   "execution_count": null,
   "metadata": {
    "colab": {
     "base_uri": "https://localhost:8080/"
    },
    "id": "MbRkE7pnxlqk",
    "outputId": "81ee65f3-e7af-49f3-fc44-b8d7d4926678"
   },
   "outputs": [
    {
     "data": {
      "text/plain": [
       "array([[6],\n",
       "       [9],\n",
       "       [9],\n",
       "       [4],\n",
       "       [1]], dtype=uint8)"
      ]
     },
     "execution_count": 26,
     "metadata": {},
     "output_type": "execute_result"
    }
   ],
   "source": [
    "y_train[:5]   #y_train is a 2D array, for our classification having 1D array is good enough. so we will convert this to now 1D array"
   ]
  },
  {
   "cell_type": "code",
   "execution_count": null,
   "metadata": {
    "colab": {
     "base_uri": "https://localhost:8080/"
    },
    "id": "zK-M2KpDxv2-",
    "outputId": "3da93b68-ead6-44f5-84f7-4bd12050e568"
   },
   "outputs": [
    {
     "data": {
      "text/plain": [
       "array([6, 9, 9, 4, 1], dtype=uint8)"
      ]
     },
     "execution_count": 27,
     "metadata": {},
     "output_type": "execute_result"
    }
   ],
   "source": [
    "y_train = y_train.reshape(-1,)\n",
    "y_train[:5]"
   ]
  },
  {
   "cell_type": "code",
   "execution_count": null,
   "metadata": {
    "id": "xz5lg8fmxzQW"
   },
   "outputs": [],
   "source": [
    "y_test = y_test.reshape(-1,)"
   ]
  },
  {
   "cell_type": "code",
   "execution_count": null,
   "metadata": {
    "id": "1b62kThpyBYc"
   },
   "outputs": [],
   "source": [
    "classes = [\"airplane\",\"automobile\",\"bird\",\"cat\",\"deer\",\"dog\",\"frog\",\"horse\",\"ship\",\"truck\"]"
   ]
  },
  {
   "cell_type": "code",
   "execution_count": null,
   "metadata": {
    "id": "OuecePsFyDh9"
   },
   "outputs": [],
   "source": [
    "def plot_sample(X, y, index):\n",
    "    plt.figure(figsize = (10,2))\n",
    "    plt.imshow(X[index])\n",
    "    plt.xlabel(classes[y[index]])"
   ]
  },
  {
   "cell_type": "code",
   "execution_count": null,
   "metadata": {
    "colab": {
     "base_uri": "https://localhost:8080/",
     "height": 173
    },
    "id": "-lYbfPUmyI_-",
    "outputId": "ab0c50d8-27e0-4591-e6e2-79a86e042844"
   },
   "outputs": [
    {
     "data": {
      "image/png": "[encoded data removed]",
      "text/plain": [
       "<Figure size 720x144 with 1 Axes>"
      ]
     },
     "metadata": {
      "needs_background": "light"
     },
     "output_type": "display_data"
    }
   ],
   "source": [
    "plot_sample(X_train, y_train, 0)"
   ]
  },
  {
   "cell_type": "code",
   "execution_count": null,
   "metadata": {
    "colab": {
     "base_uri": "https://localhost:8080/",
     "height": 173
    },
    "id": "Bly9S9isylhX",
    "outputId": "f39a4892-abc8-4392-98e5-6647c6f6a75a"
   },
   "outputs": [
    {
     "data": {
      "image/png": "[encoded data removed]",
      "text/plain": [
       "<Figure size 720x144 with 1 Axes>"
      ]
     },
     "metadata": {},
     "output_type": "display_data"
    }
   ],
   "source": [
    "plot_sample(X_train, y_train, 1)"
   ]
  },
  {
   "cell_type": "code",
   "execution_count": null,
   "metadata": {
    "id": "nIqANgHsyqRW"
   },
   "outputs": [],
   "source": [
    "# Normalize the images to a number from 0 to 1. Image has 3 channels (R,G,B) and each value in the channel can range from 0 to 255. \n",
    "# Hence to normalize in 0-->1 range, we need to divide it by 255"
   ]
  },
  {
   "cell_type": "code",
   "execution_count": null,
   "metadata": {
    "id": "pQKKmCW_zNIk"
   },
   "outputs": [],
   "source": [
    "# Normalizing the training data"
   ]
  },
  {
   "cell_type": "code",
   "execution_count": null,
   "metadata": {
    "id": "6omfL3SjyzD-"
   },
   "outputs": [],
   "source": [
    "X_train = X_train / 255.0\n",
    "X_test = X_test / 255.0"
   ]
  },
  {
   "cell_type": "code",
   "execution_count": null,
   "metadata": {
    "colab": {
     "base_uri": "https://localhost:8080/",
     "height": 173
    },
    "id": "1lZcsuV1y0oU",
    "outputId": "e13fe9ea-0961-4951-8f89-847f7b6d5eaf"
   },
   "outputs": [
    {
     "data": {
      "image/png": "[encoded data removed]",
      "text/plain": [
       "<Figure size 720x144 with 1 Axes>"
      ]
     },
     "metadata": {
      "needs_background": "light"
     },
     "output_type": "display_data"
    }
   ],
   "source": [
    "plot_sample(X_train, y_train, 1)"
   ]
  },
  {
   "cell_type": "code",
   "execution_count": null,
   "metadata": {
    "id": "eNyts1evzCQ8"
   },
   "outputs": [],
   "source": [
    "# Build simple (ANN) artificial neural network for image classification"
   ]
  },
  {
   "cell_type": "code",
   "execution_count": null,
   "metadata": {
    "colab": {
     "base_uri": "https://localhost:8080/"
    },
    "id": "kRL-3msHzTu9",
    "outputId": "fb8dc7a3-1e0b-4a51-b62a-bced04ee9114"
   },
   "outputs": [
    {
     "name": "stdout",
     "output_type": "stream",
     "text": [
      "Epoch 1/5\n",
      "1563/1563 [==============================] - 107s 68ms/step - loss: 1.8141 - accuracy: 0.3517\n",
      "Epoch 2/5\n",
      "1563/1563 [==============================] - 105s 68ms/step - loss: 1.6246 - accuracy: 0.4266\n",
      "Epoch 3/5\n",
      "1563/1563 [==============================] - 102s 65ms/step - loss: 1.5434 - accuracy: 0.4538\n",
      "Epoch 4/5\n",
      "1563/1563 [==============================] - 102s 65ms/step - loss: 1.4827 - accuracy: 0.4778\n",
      "Epoch 5/5\n",
      "1563/1563 [==============================] - 101s 65ms/step - loss: 1.4339 - accuracy: 0.4943\n"
     ]
    },
    {
     "data": {
      "text/plain": [
       "<keras.callbacks.History at 0x7fe612e5d1d0>"
      ]
     },
     "execution_count": 18,
     "metadata": {},
     "output_type": "execute_result"
    }
   ],
   "source": [
    "ann = models.Sequential([\n",
    "        layers.Flatten(input_shape=(32,32,3)),\n",
    "        layers.Dense(3000, activation='relu'),\n",
    "        layers.Dense(1000, activation='relu'),\n",
    "        layers.Dense(10, activation='softmax')    \n",
    "    ])\n",
    "\n",
    "ann.compile(optimizer='SGD',\n",
    "              loss='sparse_categorical_crossentropy',\n",
    "              metrics=['accuracy'])\n",
    "\n",
    "ann.fit(X_train, y_train, epochs=5)"
   ]
  },
  {
   "cell_type": "code",
   "execution_count": null,
   "metadata": {
    "id": "dujmEWWwz59r"
   },
   "outputs": [],
   "source": [
    "#You can see that at the end of 5 epochs, accuracy is at around 49% "
   ]
  },
  {
   "cell_type": "code",
   "execution_count": null,
   "metadata": {
    "id": "pHTbmzPv0EmU"
   },
   "outputs": [],
   "source": [
    "#from sklearn.metrics import confusion_matrix , classification_report\n",
    "#import numpy as np\n",
    "#y_pred = ann.predict(X_test)\n",
    "#y_pred_classes = [np.argmax(element) for element in y_pred]\n",
    "\n",
    "#print(\"Classification Report: \\n\", classification_report(y_test, y_pred_classes))"
   ]
  },
  {
   "cell_type": "code",
   "execution_count": null,
   "metadata": {
    "id": "be1CPR_J0RiD"
   },
   "outputs": [],
   "source": [
    "# Now let us build a convolutional neural network to train our images"
   ]
  },
  {
   "cell_type": "code",
   "execution_count": null,
   "metadata": {
    "id": "T1PaEa1m0Uf7"
   },
   "outputs": [],
   "source": [
    "cnn = models.Sequential([\n",
    "    layers.Conv2D(filters=32, kernel_size=(3, 3), activation='relu', input_shape=(32, 32, 3)),\n",
    "    layers.MaxPooling2D((2, 2)),\n",
    "    \n",
    "    layers.Conv2D(filters=64, kernel_size=(3, 3), activation='relu'),\n",
    "    layers.MaxPooling2D((2, 2)),\n",
    "    \n",
    "    layers.Flatten(),\n",
    "    layers.Dense(64, activation='relu'),\n",
    "    layers.Dense(10, activation='softmax')\n",
    "])"
   ]
  },
  {
   "cell_type": "code",
   "execution_count": null,
   "metadata": {
    "id": "_9Vs-u7C0XD7"
   },
   "outputs": [],
   "source": [
    "cnn.compile(optimizer='adam',\n",
    "              loss='sparse_categorical_crossentropy',\n",
    "              metrics=['accuracy'])"
   ]
  },
  {
   "cell_type": "code",
   "execution_count": null,
   "metadata": {
    "colab": {
     "background_save": true,
     "base_uri": "https://localhost:8080/"
    },
    "id": "Z4RhXsxZ0ZZr",
    "outputId": "8ad9a2c8-e05a-40f7-ac1a-557eddb2e354"
   },
   "outputs": [
    {
     "name": "stdout",
     "output_type": "stream",
     "text": [
      "Epoch 1/10\n",
      "1563/1563 [==============================] - 69s 44ms/step - loss: 1.4570 - accuracy: 0.4764\n",
      "Epoch 2/10\n",
      "1563/1563 [==============================] - 67s 43ms/step - loss: 1.0995 - accuracy: 0.6135\n",
      "Epoch 3/10\n",
      "1563/1563 [==============================] - 66s 42ms/step - loss: 0.9698 - accuracy: 0.6630\n",
      "Epoch 4/10\n",
      "1563/1563 [==============================] - 66s 42ms/step - loss: 0.8855 - accuracy: 0.6899\n",
      "Epoch 5/10\n",
      "1563/1563 [==============================] - 67s 43ms/step - loss: 0.8166 - accuracy: 0.7161\n",
      "Epoch 6/10\n",
      "1563/1563 [==============================] - 66s 42ms/step - loss: 0.7593 - accuracy: 0.7366\n",
      "Epoch 7/10\n",
      "1563/1563 [==============================] - 66s 43ms/step - loss: 0.7092 - accuracy: 0.7523\n",
      "Epoch 8/10\n",
      "1563/1563 [==============================] - 67s 43ms/step - loss: 0.6639 - accuracy: 0.7681\n",
      "Epoch 9/10\n",
      "1563/1563 [==============================] - 66s 42ms/step - loss: 0.6193 - accuracy: 0.7849\n",
      "Epoch 10/10\n",
      "1563/1563 [==============================] - 65s 41ms/step - loss: 0.5843 - accuracy: 0.7966\n"
     ]
    },
    {
     "data": {
      "text/plain": [
       "<keras.callbacks.History at 0x7fe60ea87b90>"
      ]
     },
     "execution_count": 22,
     "metadata": {},
     "output_type": "execute_result"
    }
   ],
   "source": [
    "cnn.fit(X_train, y_train, epochs=10)"
   ]
  },
  {
   "cell_type": "code",
   "execution_count": null,
   "metadata": {
    "id": "WZuR7F7k0fV0"
   },
   "outputs": [],
   "source": [
    "# With CNN, at the end 5 epochs, accuracy was at around 70% which is a significant improvement over ANN.\n",
    "# CNN's are best for image classification and gives superb accuracy.\n",
    "# Also computation is much less compared to simple ANN as maxpooling reduces the image dimensions while still preserving the features"
   ]
  },
  {
   "cell_type": "code",
   "execution_count": null,
   "metadata": {
    "colab": {
     "base_uri": "https://localhost:8080/"
    },
    "id": "ukSc2YZR0po0",
    "outputId": "9c090357-103f-48e1-c3da-e7f3f5917a5f"
   },
   "outputs": [
    {
     "name": "stdout",
     "output_type": "stream",
     "text": [
      "313/313 [==============================] - 4s 13ms/step - loss: 2.3026 - accuracy: 0.1000\n"
     ]
    },
    {
     "data": {
      "text/plain": [
       "[2.302611827850342, 0.10000000149011612]"
      ]
     },
     "execution_count": 45,
     "metadata": {},
     "output_type": "execute_result"
    }
   ],
   "source": [
    "cnn.evaluate(X_test,y_test)"
   ]
  },
  {
   "cell_type": "code",
   "execution_count": null,
   "metadata": {
    "colab": {
     "base_uri": "https://localhost:8080/"
    },
    "id": "vru8-YFb00RK",
    "outputId": "34abdb7d-2294-41df-9b4b-83a70c365c8f"
   },
   "outputs": [
    {
     "data": {
      "text/plain": [
       "array([[0.10052627, 0.09905639, 0.09914068, 0.1014569 , 0.09946056,\n",
       "        0.10031298, 0.10034382, 0.09925792, 0.1001635 , 0.10028098],\n",
       "       [0.10052627, 0.09905639, 0.09914068, 0.1014569 , 0.09946056,\n",
       "        0.10031298, 0.10034382, 0.09925792, 0.1001635 , 0.10028098],\n",
       "       [0.10052627, 0.09905639, 0.09914068, 0.1014569 , 0.09946056,\n",
       "        0.10031298, 0.10034382, 0.09925792, 0.1001635 , 0.10028098],\n",
       "       [0.10052627, 0.09905639, 0.09914068, 0.1014569 , 0.09946056,\n",
       "        0.10031298, 0.10034382, 0.09925792, 0.1001635 , 0.10028098],\n",
       "       [0.10052627, 0.09905639, 0.09914068, 0.1014569 , 0.09946056,\n",
       "        0.10031298, 0.10034382, 0.09925792, 0.1001635 , 0.10028098]],\n",
       "      dtype=float32)"
      ]
     },
     "execution_count": 64,
     "metadata": {},
     "output_type": "execute_result"
    }
   ],
   "source": [
    "y_pred = cnn.predict(X_test)\n",
    "y_pred[:5]"
   ]
  },
  {
   "cell_type": "code",
   "execution_count": null,
   "metadata": {
    "colab": {
     "base_uri": "https://localhost:8080/"
    },
    "id": "aPAdvzER021j",
    "outputId": "2e5be7f9-99bc-48e1-acca-3eb8c669abf0"
   },
   "outputs": [
    {
     "data": {
      "text/plain": [
       "[3, 3, 3, 3, 3, 3]"
      ]
     },
     "execution_count": 65,
     "metadata": {},
     "output_type": "execute_result"
    }
   ],
   "source": [
    "y_classes = [np.argmax(element) for element in y_pred]\n",
    "y_classes[:6]"
   ]
  },
  {
   "cell_type": "code",
   "execution_count": null,
   "metadata": {
    "colab": {
     "base_uri": "https://localhost:8080/"
    },
    "id": "pTYkJevE043b",
    "outputId": "4ae01faf-917d-42f2-fc81-327711282283"
   },
   "outputs": [
    {
     "data": {
      "text/plain": [
       "array([3, 8, 8, 0, 6], dtype=uint8)"
      ]
     },
     "execution_count": 66,
     "metadata": {},
     "output_type": "execute_result"
    }
   ],
   "source": [
    "y_test[:5]"
   ]
  },
  {
   "cell_type": "code",
   "execution_count": null,
   "metadata": {
    "colab": {
     "base_uri": "https://localhost:8080/",
     "height": 173
    },
    "id": "7PyXQIpV07Cb",
    "outputId": "47fbd642-7a0d-470a-ab3b-86d99508ffff"
   },
   "outputs": [
    {
     "data": {
      "image/png": "[encoded data removed]",
      "text/plain": [
       "<Figure size 720x144 with 1 Axes>"
      ]
     },
     "metadata": {},
     "output_type": "display_data"
    }
   ],
   "source": [
    "plot_sample(X_test, y_test,3)"
   ]
  },
  {
   "cell_type": "code",
   "execution_count": null,
   "metadata": {
    "colab": {
     "base_uri": "https://localhost:8080/",
     "height": 35
    },
    "id": "ZGG5ceD_09E8",
    "outputId": "b8561589-5df2-44e2-c55c-427c4cfc4252"
   },
   "outputs": [
    {
     "data": {
      "application/vnd.google.colaboratory.intrinsic+json": {
       "type": "string"
      },
      "text/plain": [
       "'cat'"
      ]
     },
     "execution_count": 68,
     "metadata": {},
     "output_type": "execute_result"
    }
   ],
   "source": [
    "classes[y_classes[3]]"
   ]
  },
  {
   "cell_type": "code",
   "execution_count": null,
   "metadata": {
    "colab": {
     "base_uri": "https://localhost:8080/",
     "height": 35
    },
    "id": "Y7myZ5H41ARF",
    "outputId": "06e6e4ac-2b86-4d93-8210-b02eaafc9976"
   },
   "outputs": [
    {
     "data": {
      "application/vnd.google.colaboratory.intrinsic+json": {
       "type": "string"
      },
      "text/plain": [
       "'cat'"
      ]
     },
     "execution_count": 69,
     "metadata": {},
     "output_type": "execute_result"
    }
   ],
   "source": [
    "classes[y_classes[100]]"
   ]
  }
 ],
 "metadata": {
  "colab": {
   "provenance": []
  },
  "kernelspec": {
   "display_name": "Python 3 (ipykernel)",
   "language": "python",
   "name": "python3"
  },
  "language_info": {
   "codemirror_mode": {
    "name": "ipython",
    "version": 3
   },
   "file_extension": ".py",
   "mimetype": "text/x-python",
   "name": "python",
   "nbconvert_exporter": "python",
   "pygments_lexer": "ipython3",
   "version": "3.9.6"
  }
 },
 "nbformat": 4,
 "nbformat_minor": 1
}
